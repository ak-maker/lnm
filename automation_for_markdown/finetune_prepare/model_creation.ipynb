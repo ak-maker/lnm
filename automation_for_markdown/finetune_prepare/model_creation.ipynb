{
 "cells": [
  {
   "cell_type": "code",
   "execution_count": 2,
   "id": "84b9b248",
   "metadata": {},
   "outputs": [],
   "source": [
    "# Upload fine-tuning files\n",
    "\n",
    "import os\n",
    "from openai import AzureOpenAI\n",
    "\n",
    "os.environ[\"AZURE_OPENAI_ENDPOINT\"] = \"https://llm-ft.openai.azure.com/\"\n",
    "os.environ[\"AZURE_OPENAI_KEY\"] = \"799f094146ba4a39ae6a59822297e155\"\n",
    "\n",
    "client = AzureOpenAI(\n",
    "  azure_endpoint = os.getenv(\"AZURE_OPENAI_ENDPOINT\"), \n",
    "  api_key=os.getenv(\"AZURE_OPENAI_KEY\"),  \n",
    "  api_version=\"2024-02-15-preview\"  # This API version or later is required to access fine-tuning for turbo/babbage-002/davinci-002\n",
    ")"
   ]
  },
  {
   "cell_type": "code",
   "execution_count": 3,
   "id": "5d234085",
   "metadata": {},
   "outputs": [],
   "source": [
    "training_file_name = './train_data.jsonl'\n",
    "validation_file_name = './validate_data.jsonl'\n",
    "\n",
    "# Upload the training and validation dataset files to Azure OpenAI with the SDK.\n",
    "\n",
    "training_response = client.files.create(\n",
    "    file=open(training_file_name, \"rb\"), purpose=\"fine-tune\"\n",
    ")\n",
    "training_file_id = training_response.id\n",
    "\n",
    "validation_response = client.files.create(\n",
    "    file=open(validation_file_name, \"rb\"), purpose=\"fine-tune\"\n",
    ")\n",
    "validation_file_id = validation_response.id"
   ]
  },
  {
   "cell_type": "code",
   "execution_count": 5,
   "id": "abf20b0c",
   "metadata": {},
   "outputs": [
    {
     "name": "stdout",
     "output_type": "stream",
     "text": [
      "Training file ID: file-2025cdc6f7e048e8bbf76c9d5dd64c55\n",
      "Validation file ID: file-4442c796062b4594bba16d9e80bad581\n"
     ]
    }
   ],
   "source": [
    "print(\"Training file ID:\", training_file_id)\n",
    "print(\"Validation file ID:\", validation_file_id)\n",
    "training_file_id = \"file-2025cdc6f7e048e8bbf76c9d5dd64c55\"\n",
    "validation_file_id = \"file-4442c796062b4594bba16d9e80bad581\""
   ]
  },
  {
   "cell_type": "code",
   "execution_count": 6,
   "id": "0d01ce01",
   "metadata": {},
   "outputs": [],
   "source": [
    "response = client.fine_tuning.jobs.create(\n",
    "    training_file=training_file_id,\n",
    "    validation_file=validation_file_id,\n",
    "    model=\"gpt-35-turbo-1106\" # Enter base model name. Note that in Azure OpenAI the model name contains dashes and cannot contain dot/period characters. \n",
    ")\n",
    "\n",
    "job_id = response.id"
   ]
  },
  {
   "cell_type": "code",
   "execution_count": 7,
   "id": "b86d8df0",
   "metadata": {},
   "outputs": [
    {
     "name": "stdout",
     "output_type": "stream",
     "text": [
      "Job ID: ftjob-2f061e1410524dd0b9b984c5d521fef8\n",
      "Status: ftjob-2f061e1410524dd0b9b984c5d521fef8\n",
      "{\n",
      "  \"id\": \"ftjob-2f061e1410524dd0b9b984c5d521fef8\",\n",
      "  \"created_at\": 1710048269,\n",
      "  \"error\": null,\n",
      "  \"fine_tuned_model\": null,\n",
      "  \"finished_at\": null,\n",
      "  \"hyperparameters\": {\n",
      "    \"n_epochs\": 2,\n",
      "    \"batch_size\": 2,\n",
      "    \"learning_rate_multiplier\": 1\n",
      "  },\n",
      "  \"model\": \"gpt-35-turbo-1106\",\n",
      "  \"object\": \"fine_tuning.job\",\n",
      "  \"organization_id\": null,\n",
      "  \"result_files\": null,\n",
      "  \"status\": \"pending\",\n",
      "  \"trained_tokens\": null,\n",
      "  \"training_file\": \"file-2025cdc6f7e048e8bbf76c9d5dd64c55\",\n",
      "  \"validation_file\": \"file-4442c796062b4594bba16d9e80bad581\"\n",
      "}\n"
     ]
    }
   ],
   "source": [
    "# You can use the job ID to monitor the status of the fine-tuning job.\n",
    "# The fine-tuning job will take some time to start and complete.\n",
    "# e51ca50072d046dfa0ed414b874a97d2\n",
    "print(\"Job ID:\", response.id)\n",
    "print(\"Status:\", response.id)\n",
    "print(response.model_dump_json(indent=2))"
   ]
  },
  {
   "cell_type": "code",
   "execution_count": 8,
   "id": "ed21071a",
   "metadata": {},
   "outputs": [
    {
     "name": "stdout",
     "output_type": "stream",
     "text": [
      "Job ID: ftjob-2f061e1410524dd0b9b984c5d521fef8\n",
      "Status: succeeded\n",
      "{\n",
      "  \"id\": \"ftjob-2f061e1410524dd0b9b984c5d521fef8\",\n",
      "  \"created_at\": 1710048269,\n",
      "  \"error\": null,\n",
      "  \"fine_tuned_model\": \"gpt-35-turbo-1106.ft-2f061e1410524dd0b9b984c5d521fef8\",\n",
      "  \"finished_at\": 1710051914,\n",
      "  \"hyperparameters\": {\n",
      "    \"n_epochs\": 2,\n",
      "    \"batch_size\": 2,\n",
      "    \"learning_rate_multiplier\": 1\n",
      "  },\n",
      "  \"model\": \"gpt-35-turbo-1106\",\n",
      "  \"object\": \"fine_tuning.job\",\n",
      "  \"organization_id\": null,\n",
      "  \"result_files\": [\n",
      "    \"file-4606db28093e45c0928dcce66c792145\"\n",
      "  ],\n",
      "  \"status\": \"succeeded\",\n",
      "  \"trained_tokens\": 2491790,\n",
      "  \"training_file\": \"file-2025cdc6f7e048e8bbf76c9d5dd64c55\",\n",
      "  \"validation_file\": \"file-4442c796062b4594bba16d9e80bad581\"\n",
      "}\n"
     ]
    }
   ],
   "source": [
    "response = client.fine_tuning.jobs.retrieve(\"ftjob-2f061e1410524dd0b9b984c5d521fef8\")\n",
    "\n",
    "print(\"Job ID:\", response.id)\n",
    "print(\"Status:\", response.status)\n",
    "print(response.model_dump_json(indent=2))"
   ]
  },
  {
   "cell_type": "code",
   "execution_count": 4,
   "id": "3e464202",
   "metadata": {},
   "outputs": [
    {
     "name": "stdout",
     "output_type": "stream",
     "text": [
      "Downloading result file: file-4606db28093e45c0928dcce66c792145\n"
     ]
    }
   ],
   "source": [
    "response = client.fine_tuning.jobs.retrieve(\"ftjob-2f061e1410524dd0b9b984c5d521fef8\")\n",
    "if response.status == 'succeeded':\n",
    "    result_file_id = response.result_files[0]\n",
    "\n",
    "retrieve = client.files.retrieve(result_file_id)\n",
    "\n",
    "# Download the result file.\n",
    "print(f'Downloading result file: {result_file_id}')\n",
    "\n",
    "with open(retrieve.filename, \"wb\") as file:\n",
    "    result = client.files.content(result_file_id).read()\n",
    "    file.write(result)"
   ]
  },
  {
   "cell_type": "code",
   "execution_count": null,
   "id": "fe2b121e",
   "metadata": {},
   "outputs": [],
   "source": []
  }
 ],
 "metadata": {
  "kernelspec": {
   "display_name": "lnm",
   "language": "python",
   "name": "lnm"
  },
  "language_info": {
   "codemirror_mode": {
    "name": "ipython",
    "version": 3
   },
   "file_extension": ".py",
   "mimetype": "text/x-python",
   "name": "python",
   "nbconvert_exporter": "python",
   "pygments_lexer": "ipython3",
   "version": "3.10.13"
  }
 },
 "nbformat": 4,
 "nbformat_minor": 5
}
